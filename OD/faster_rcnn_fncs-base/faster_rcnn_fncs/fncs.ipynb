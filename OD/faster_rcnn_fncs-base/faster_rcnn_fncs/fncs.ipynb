{
 "cells": [
  {
   "cell_type": "code",
   "execution_count": 1,
   "id": "ff7a87e4",
   "metadata": {},
   "outputs": [],
   "source": [
    "import cv2 as cv\n",
    "import pandas as pd\n",
    "import numpy as np\n",
    "import matplotlib.pyplot as plt"
   ]
  },
  {
   "cell_type": "code",
   "execution_count": 2,
   "id": "6e1475b3",
   "metadata": {},
   "outputs": [],
   "source": [
    "def plot_img_w_bbox(data_df, filename):\n",
    "    img = cv.imread(data_df.loc[filename, \"resized img path\"])\n",
    "    x1 = int(data_df.loc[filename, [\"x1\"]][0])\n",
    "    x2 = int(data_df.loc[filename, [\"x2\"]][0])\n",
    "    y1 = int(data_df.loc[filename, [\"y1\"]][0])\n",
    "    y2 = int(data_df.loc[filename, [\"y2\"]][0])\n",
    "    color = (0,0, 255)\n",
    "    thickness = 2\n",
    "    cv.rectangle(img, (x1, y1), (x2, y2), color, thickness)\n",
    "    fig = plt.figure(facecolor = 'white')\n",
    "    plt.imshow(cv.cvtColor(img, cv.COLOR_BGR2RGB))    \n",
    "    fig.suptitle(filename, fontsize = 20)"
   ]
  }
 ],
 "metadata": {
  "kernelspec": {
   "display_name": "Python 3 (ipykernel)",
   "language": "python",
   "name": "python3"
  },
  "language_info": {
   "codemirror_mode": {
    "name": "ipython",
    "version": 3
   },
   "file_extension": ".py",
   "mimetype": "text/x-python",
   "name": "python",
   "nbconvert_exporter": "python",
   "pygments_lexer": "ipython3",
   "version": "3.9.16"
  }
 },
 "nbformat": 4,
 "nbformat_minor": 5
}
