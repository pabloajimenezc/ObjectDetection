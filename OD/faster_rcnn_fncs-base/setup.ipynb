{
 "cells": [
  {
   "cell_type": "code",
   "execution_count": null,
   "id": "a1edaee7",
   "metadata": {},
   "outputs": [],
   "source": [
    "import pathlib\n",
    "from setuptools import find_packages, setup\n",
    "\n",
    "HERE = pathlib.Path(__file__).parent\n",
    "\n",
    "VERSION = '0.0.1' #Muy importante, deberéis ir cambiando la versión de vuestra librería según incluyáis nuevas funcionalidades\n",
    "PACKAGE_NAME = 'faster_rcnn_fncs' #Debe coincidir con el nombre de la carpeta \n",
    "AUTHOR = 'Pablo Adriano Jiménez Cavallar' #Modificar con vuestros datos\n",
    "AUTHOR_EMAIL = 'pabloajimenezca@gmail.com' #Modificar con vuestros datos\n",
    "URL = 'https://github.com/pabloajimenezc' #Modificar con vuestros datos\n",
    "\n",
    "LICENSE = 'None' #Tipo de licencia\n",
    "DESCRIPTION = 'Librería para leer ficheros PDFs y extraer la información en formato str' #Descripción corta\n",
    "LONG_DESCRIPTION = (HERE / \"README.md\").read_text(encoding='utf-8') #Referencia al documento README con una descripción más elaborada\n",
    "LONG_DESC_TYPE = \"text/markdown\"\n",
    "\n",
    "\n",
    "#Paquetes necesarios para que funcione la libreía. Se instalarán a la vez si no lo tuvieras ya instalado\n",
    "INSTALL_REQUIRES = [\n",
    "      'pymupdf'\n",
    "      ]\n",
    "\n",
    "setup(\n",
    "    name=PACKAGE_NAME,\n",
    "    version=VERSION,\n",
    "    description=DESCRIPTION,\n",
    "    long_description=LONG_DESCRIPTION,\n",
    "    long_description_content_type=LONG_DESC_TYPE,\n",
    "    author=AUTHOR,\n",
    "    author_email=AUTHOR_EMAIL,\n",
    "    url=URL,\n",
    "    install_requires=INSTALL_REQUIRES,\n",
    "    license=LICENSE,\n",
    "    packages=find_packages(),\n",
    "    include_package_data=True\n",
    ")"
   ]
  }
 ],
 "metadata": {
  "kernelspec": {
   "display_name": "Python 3 (ipykernel)",
   "language": "python",
   "name": "python3"
  },
  "language_info": {
   "codemirror_mode": {
    "name": "ipython",
    "version": 3
   },
   "file_extension": ".py",
   "mimetype": "text/x-python",
   "name": "python",
   "nbconvert_exporter": "python",
   "pygments_lexer": "ipython3",
   "version": "3.9.16"
  }
 },
 "nbformat": 4,
 "nbformat_minor": 5
}
